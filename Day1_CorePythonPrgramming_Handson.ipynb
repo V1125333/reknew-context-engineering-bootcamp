{
  "nbformat": 4,
  "nbformat_minor": 0,
  "metadata": {
    "colab": {
      "provenance": [],
      "authorship_tag": "ABX9TyO5dS49EhZIfnOXD3JSK2Ua",
      "include_colab_link": true
    },
    "kernelspec": {
      "name": "python3",
      "display_name": "Python 3"
    },
    "language_info": {
      "name": "python"
    }
  },
  "cells": [
    {
      "cell_type": "markdown",
      "metadata": {
        "id": "view-in-github",
        "colab_type": "text"
      },
      "source": [
        "<a href=\"https://colab.research.google.com/github/V1125333/reknew-context-engineering-bootcamp/blob/main/Day1_CorePythonPrgramming_Handson.ipynb\" target=\"_parent\"><img src=\"https://colab.research.google.com/assets/colab-badge.svg\" alt=\"Open In Colab\"/></a>"
      ]
    },
    {
      "cell_type": "code",
      "source": [
        "# Create a variable called name and store your name in it.\n",
        "name = \"Venu Madhav Pendurthi\"\n",
        "\n",
        "# Create a variable age and store your age in it.\n",
        "age = 30\n",
        "\n",
        "# Create three variables: city, country, and pincode and store suitable values.\n",
        "city = \"Hartford\"\n",
        "country = \"USA\"\n",
        "pincode = \"06103\"\n",
        "\n",
        "# Change the value of a variable score from 50 to 80 and print it.\n",
        "score = 50\n",
        "score = 80\n",
        "print(score)\n",
        "\n",
        "# Assign the same value 100 to three variables x, y, and z and print them.\n",
        "x = y = z = 100\n",
        "print(x)\n",
        "print(y)\n",
        "print(z)\n",
        "print(x,y,z)\n",
        "\n",
        "# Assign three values 10, 20, 30 to variables a, b, and c in one line.\n",
        "x,y,z = 10,11,20\n",
        "\n",
        "# Create variables of different data types (string, integer, float, boolean) and print their values.\n",
        "string_value = \"Rama\"\n",
        "integer_value = 33\n",
        "float_value = 33.25\n",
        "boolean_value = True\n",
        "print(string_value)\n",
        "print(integer_value)\n",
        "print(float_value)\n",
        "print(boolean_value)\n",
        "\n",
        "# Swap the values of two variables x and y without using a third variable.\n",
        "x = 10\n",
        "y = 20\n",
        "x,y = y,x\n",
        "print(x)\n",
        "print(y)\n",
        "\n",
        "# Write a program to add two numbers using variables and print the result.\n",
        "x = 10\n",
        "y = 20\n",
        "print(x+y)\n",
        "\n",
        "# Write a program to store your favorite color, food, and movie in variables and print them.\n",
        "favorite_color = \"Red\"\n",
        "favorite_food = \"Pizza\"\n",
        "favorite_movie = \"Avengers\"\n",
        "print(favorite_color)\n",
        "print(favorite_food)\n",
        "print(favorite_movie)\n"
      ],
      "metadata": {
        "colab": {
          "base_uri": "https://localhost:8080/"
        },
        "id": "AHei_Y4RqdNM",
        "outputId": "f2fe6f50-e7c5-4b6e-b2e6-d0309eac1fd6"
      },
      "execution_count": 1,
      "outputs": [
        {
          "output_type": "stream",
          "name": "stdout",
          "text": [
            "80\n",
            "100\n",
            "100\n",
            "100\n",
            "100 100 100\n",
            "Rama\n",
            "33\n",
            "33.25\n",
            "True\n",
            "20\n",
            "10\n",
            "30\n",
            "Red\n",
            "Pizza\n",
            "Avengers\n"
          ]
        }
      ]
    },
    {
      "cell_type": "code",
      "source": [
        "# HandsOn Questions :  Variable Attributes\n",
        "\n",
        "# Create a variable x = 15 and print its identity, type, and value using id(), type(), and print().\n",
        "x = 15\n",
        "print(\"Identity of x is : \", id(x))\n",
        "print(\"Type of x is : \", type(x))\n",
        "print(\"Value of x is : \",x)\n",
        "\n",
        "# Assign name = \"Venu\" and print its type and identity.\n",
        "name = \"Venu\"\n",
        "print(\"Identity of name is : \", id(name))\n",
        "print(\"Type of name is : \", type(name))\n",
        "\n",
        "# Create two variables a = 10 and b = 10. Print their identities and check if both are the same.\n",
        "a = 10\n",
        "b = 10\n",
        "print(\"Identity of a is : \", id(a))\n",
        "print(\"Identity of b is : \", id(b))\n",
        "\n",
        "# Assign x = 100, print its identity, then change x = 200 and print the new identity. See if it changes.\n",
        "x = 100\n",
        "print(\"Identity of x is : \", id(x))\n",
        "x = 200\n",
        "print(\"Identity of x is : \", id(x))\n",
        "\n",
        "# Create a list nums = [1, 2, 3]. Print its identity and type. Add one element using nums.append(4) and check if the identity changes.\n",
        "nums = [1,2,3]\n",
        "print(\"Identity of nums before appending is : \", id(nums))\n",
        "print(\"Type of nums before appending is : \", type(nums))\n",
        "nums.append(4)\n",
        "print(\"Identity of nums after appending is : \", id(nums))\n",
        "\n",
        "# Assign a = 5 and b = a. Print both their identities. Then change b = 6 and check if a is affected.\n",
        "a = 3\n",
        "b = a\n",
        "print(\"Identity of a : \",id(a))\n",
        "print(\"Identity of b : \",id(b))\n",
        "b = 6\n",
        "print(\"Identity of b : \",id(b))\n",
        "\n",
        "# Create variables of different types:\n",
        "#  a = 10, b = 10.5, c = \"Python\", d = [1, 2, 3]\n",
        "#  Print the identity and type of each variable.\n",
        "a = 10\n",
        "b = 10.5\n",
        "c = \"Python\"\n",
        "d = [1,2,3]\n",
        "print(\"Identity of a is {} and type of a is {}\".format(id(a),type(a)))\n",
        "print(\"Identity of b is {} and type of b is {}\".format(id(b),type(b)))\n",
        "print(\"Identity of c is {} and type of c is {}\".format(id(c),type(c)))\n",
        "print(\"Identity of d is {} and type of d is {}\".format(id(d),type(d)))\n",
        "\n",
        "\n",
        "# Assign two identical strings:\n",
        "#  str1 = \"hello\", str2 = \"hello\"\n",
        "#  Print their identities and see if they are the same.\n",
        "str1 = \"hello\"\n",
        "str2 = \"hello\"\n",
        "print(\"Identity of str1 is {}\".format(id(str1)))\n",
        "print(\"Identity of str2 is {}\".format(id(str2)))\n",
        "print(id(str1) == id(str2))\n",
        "\n",
        "\n",
        "# Assign x = 50, print its identity and type, then change x = \"Fifty\" and print again.\n",
        "x = 50\n",
        "print(\"Identity of x is {} and type of x is {}\".format(id(x),type(x)))\n",
        "x = \"Fifty\"\n",
        "print(\"Identity of x is {} and type of x is {}\".format(id(x),type(x)))\n",
        "\n",
        "# Take user input and store it in a variable called data. Print the identity, type, and value of data.\n",
        "data = input(\"Enter some data : \")\n",
        "print(\"Identity of user input is {}, type of user input is {},Value of user input is {}\".format(id(data),type(data),data))"
      ],
      "metadata": {
        "colab": {
          "base_uri": "https://localhost:8080/"
        },
        "id": "B71YGSWZy_af",
        "outputId": "d8b0b15f-3c2c-495a-b524-3c5fdfd01f3f"
      },
      "execution_count": 17,
      "outputs": [
        {
          "output_type": "stream",
          "name": "stdout",
          "text": [
            "Identity of x is :  11654824\n",
            "Type of x is :  <class 'int'>\n",
            "Value of x is :  15\n",
            "Identity of name is :  137573464727952\n",
            "Type of name is :  <class 'str'>\n",
            "Identity of a is :  11654664\n",
            "Identity of b is :  11654664\n",
            "Identity of x is :  11657544\n",
            "Identity of x is :  11660744\n",
            "Identity of nums before appending is :  137573457757440\n",
            "Type of nums before appending is :  <class 'list'>\n",
            "Identity of nums after appending is :  137573457757440\n",
            "Identity of a :  11654440\n",
            "Identity of b :  11654440\n",
            "Identity of b :  11654536\n",
            "Identity of a is 11654664 and type of a is <class 'int'>\n",
            "Identity of b is 137573458874992 and type of b is <class 'float'>\n",
            "Identity of c is 10702304 and type of c is <class 'str'>\n",
            "Identity of d is 137573457764736 and type of d is <class 'list'>\n",
            "Identity of str1 is 137574408553024\n",
            "Identity of str2 is 137574408553024\n",
            "True\n",
            "Identity of x is 11655944 and type of x is <class 'int'>\n",
            "Identity of x is 137573469802672 and type of x is <class 'str'>\n",
            "Enter some data : 33\n",
            "Identity of user input is 137573464717040, type of user input is <class 'str'>,Value of user input is 33\n"
          ]
        }
      ]
    },
    {
      "cell_type": "code",
      "source": [],
      "metadata": {
        "id": "uuPs-fLF8i9z"
      },
      "execution_count": null,
      "outputs": []
    }
  ]
}