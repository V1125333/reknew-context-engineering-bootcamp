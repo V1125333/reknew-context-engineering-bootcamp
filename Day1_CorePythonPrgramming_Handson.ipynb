{
  "nbformat": 4,
  "nbformat_minor": 0,
  "metadata": {
    "colab": {
      "provenance": [],
      "authorship_tag": "ABX9TyN1bJDmcXNWMY/QX26aWfXx",
      "include_colab_link": true
    },
    "kernelspec": {
      "name": "python3",
      "display_name": "Python 3"
    },
    "language_info": {
      "name": "python"
    }
  },
  "cells": [
    {
      "cell_type": "markdown",
      "metadata": {
        "id": "view-in-github",
        "colab_type": "text"
      },
      "source": [
        "<a href=\"https://colab.research.google.com/github/V1125333/reknew-context-engineering-bootcamp/blob/main/Day1_CorePythonPrgramming_Handson.ipynb\" target=\"_parent\"><img src=\"https://colab.research.google.com/assets/colab-badge.svg\" alt=\"Open In Colab\"/></a>"
      ]
    },
    {
      "cell_type": "code",
      "source": [
        "# Create a variable called name and store your name in it.\n",
        "name = \"Venu Madhav Pendurthi\"\n",
        "\n",
        "# Create a variable age and store your age in it.\n",
        "age = 30\n",
        "\n",
        "# Create three variables: city, country, and pincode and store suitable values.\n",
        "city = \"Hartford\"\n",
        "country = \"USA\"\n",
        "pincode = \"06103\"\n",
        "\n",
        "# Change the value of a variable score from 50 to 80 and print it.\n",
        "score = 50\n",
        "score = 80\n",
        "print(score)\n",
        "\n",
        "# Assign the same value 100 to three variables x, y, and z and print them.\n",
        "x = y = z = 100\n",
        "print(x)\n",
        "print(y)\n",
        "print(z)\n",
        "print(x,y,z)\n",
        "\n",
        "# Assign three values 10, 20, 30 to variables a, b, and c in one line.\n",
        "x,y,z = 10,11,20\n",
        "\n",
        "# Create variables of different data types (string, integer, float, boolean) and print their values.\n",
        "string_value = \"Rama\"\n",
        "integer_value = 33\n",
        "float_value = 33.25\n",
        "boolean_value = True\n",
        "print(string_value)\n",
        "print(integer_value)\n",
        "print(float_value)\n",
        "print(boolean_value)\n",
        "\n",
        "# Swap the values of two variables x and y without using a third variable.\n",
        "x = 10\n",
        "y = 20\n",
        "x,y = y,x\n",
        "print(x)\n",
        "print(y)\n",
        "\n",
        "# Write a program to add two numbers using variables and print the result.\n",
        "x = 10\n",
        "y = 20\n",
        "print(x+y)\n",
        "\n",
        "# Write a program to store your favorite color, food, and movie in variables and print them.\n",
        "favorite_color = \"Red\"\n",
        "favorite_food = \"Pizza\"\n",
        "favorite_movie = \"Avengers\"\n",
        "print(favorite_color)\n",
        "print(favorite_food)\n",
        "print(favorite_movie)\n"
      ],
      "metadata": {
        "colab": {
          "base_uri": "https://localhost:8080/"
        },
        "id": "AHei_Y4RqdNM",
        "outputId": "f2fe6f50-e7c5-4b6e-b2e6-d0309eac1fd6"
      },
      "execution_count": 1,
      "outputs": [
        {
          "output_type": "stream",
          "name": "stdout",
          "text": [
            "80\n",
            "100\n",
            "100\n",
            "100\n",
            "100 100 100\n",
            "Rama\n",
            "33\n",
            "33.25\n",
            "True\n",
            "20\n",
            "10\n",
            "30\n",
            "Red\n",
            "Pizza\n",
            "Avengers\n"
          ]
        }
      ]
    }
  ]
}